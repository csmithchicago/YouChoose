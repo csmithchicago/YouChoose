{
 "cells": [
  {
   "cell_type": "code",
   "execution_count": 1,
   "metadata": {},
   "outputs": [],
   "source": [
    "\"\"\" using lifetimes to determine customer retention/value \"\"\"\n",
    "import os\n",
    "import urllib.parse\n",
    "\n",
    "import dotenv\n",
    "import matplotlib.pyplot as plt\n",
    "import numpy as np\n",
    "import pandas as pd\n",
    "from sqlalchemy import MetaData, create_engine, select"
   ]
  },
  {
   "cell_type": "code",
   "execution_count": 2,
   "metadata": {},
   "outputs": [],
   "source": [
    "project_dir = os.path.join(os.path.dirname('__file__'), os.pardir)\n",
    "dotenv_path = os.path.join(project_dir, '.env')\n",
    "_ = dotenv.load_dotenv(dotenv_path=dotenv_path)"
   ]
  },
  {
   "cell_type": "code",
   "execution_count": 3,
   "metadata": {},
   "outputs": [],
   "source": [
    "DB_PASSWORD = os.getenv('DB_PASSWORD', '')\n",
    "DB_NAME = os.getenv('DB_NAME')\n",
    "DB_USER = os.getenv('DB_USER', 'postgres')\n",
    "DB_HOST = os.getenv('DB_HOST', '')\n",
    "# DB_HOST = ''"
   ]
  },
  {
   "cell_type": "code",
   "execution_count": 4,
   "metadata": {},
   "outputs": [],
   "source": [
    "db_string = f'postgresql+psycopg2://{DB_USER}:{urllib.parse.quote_plus(DB_PASSWORD)}@{DB_HOST}/{DB_NAME}'\n",
    "engine = create_engine(db_string)\n",
    "conn = engine.connect()"
   ]
  },
  {
   "cell_type": "code",
   "execution_count": 5,
   "metadata": {},
   "outputs": [],
   "source": [
    "metadata = MetaData()\n",
    "metadata.reflect(bind=engine)"
   ]
  },
  {
   "cell_type": "code",
   "execution_count": 6,
   "metadata": {},
   "outputs": [],
   "source": [
    "departments = metadata.tables['departments']\n",
    "orders = metadata.tables['orders']\n",
    "aisles = metadata.tables['aisles']\n",
    "order_products__prior = metadata.tables['order_products__prior']\n",
    "products = metadata.tables['products']\n",
    "order_products__train = metadata.tables['order_products__train']\n",
    "orders_test = metadata.tables['orders_test']\n",
    "orders_no_tests = metadata.tables['orders_no_tests']\n",
    "order_products__test = metadata.tables['order_products__test']"
   ]
  },
  {
   "cell_type": "code",
   "execution_count": 7,
   "metadata": {},
   "outputs": [],
   "source": [
    "s = departments.select()\n",
    "rp = conn.execute(s)\n",
    "results = rp.fetchall()"
   ]
  },
  {
   "cell_type": "code",
   "execution_count": 8,
   "metadata": {},
   "outputs": [
    {
     "data": {
      "text/plain": [
       "[(1, 'frozen'),\n",
       " (2, 'other'),\n",
       " (3, 'bakery'),\n",
       " (4, 'produce'),\n",
       " (5, 'alcohol'),\n",
       " (6, 'international'),\n",
       " (7, 'beverages'),\n",
       " (8, 'pets'),\n",
       " (9, 'dry goods pasta'),\n",
       " (10, 'bulk'),\n",
       " (11, 'personal care'),\n",
       " (12, 'meat seafood'),\n",
       " (13, 'pantry'),\n",
       " (14, 'breakfast'),\n",
       " (15, 'canned goods'),\n",
       " (16, 'dairy eggs'),\n",
       " (17, 'household'),\n",
       " (18, 'babies'),\n",
       " (19, 'snacks'),\n",
       " (20, 'deli'),\n",
       " (21, 'missing')]"
      ]
     },
     "execution_count": 8,
     "metadata": {},
     "output_type": "execute_result"
    }
   ],
   "source": [
    "results"
   ]
  },
  {
   "cell_type": "code",
   "execution_count": null,
   "metadata": {},
   "outputs": [],
   "source": []
  },
  {
   "cell_type": "code",
   "execution_count": null,
   "metadata": {},
   "outputs": [],
   "source": []
  }
 ],
 "metadata": {
  "kernelspec": {
   "display_name": "Python 3",
   "language": "python",
   "name": "python3"
  },
  "language_info": {
   "codemirror_mode": {
    "name": "ipython",
    "version": 3
   },
   "file_extension": ".py",
   "mimetype": "text/x-python",
   "name": "python",
   "nbconvert_exporter": "python",
   "pygments_lexer": "ipython3",
   "version": "3.7.1"
  }
 },
 "nbformat": 4,
 "nbformat_minor": 2
}
