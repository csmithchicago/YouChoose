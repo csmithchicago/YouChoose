{
 "cells": [
  {
   "cell_type": "markdown",
   "metadata": {},
   "source": [
    "### Issues and Things to Add\n",
    "\n",
    "- Add in a read/load method for Graph"
   ]
  },
  {
   "cell_type": "code",
   "execution_count": 1,
   "metadata": {},
   "outputs": [],
   "source": [
    "\"\"\" build network graph of prior purchases \"\"\"\n",
    "import csv\n",
    "import itertools as it\n",
    "import json\n",
    "from collections import defaultdict\n",
    "from io import StringIO as sio\n",
    "\n",
    "import matplotlib.pyplot as plt\n",
    "import networkx as nx\n",
    "import numpy as np\n",
    "import pygraphviz as pgv"
   ]
  },
  {
   "cell_type": "code",
   "execution_count": 2,
   "metadata": {},
   "outputs": [],
   "source": [
    "def read_order_product_sets(filename):\n",
    "    \"\"\"\n",
    "    open and create a generator for a csv file that contains all of the\n",
    "    products bought in each order.\n",
    "    \"\"\"\n",
    "    with open(filename, newline='') as f:\n",
    "        prod_csv = csv.reader(f)\n",
    "        next(prod_csv)\n",
    "        for row in prod_csv:\n",
    "            yield json.load(sio(row[-1]))\n",
    "\n",
    "            \n",
    "def dict_sum(*dicts):\n",
    "    \"\"\"\n",
    "    combine dictionaries and sum the values when \n",
    "    the key exists in multiple dictionaries.\n",
    "    \"\"\"\n",
    "    ret = defaultdict(int)\n",
    "    for d in dicts:\n",
    "        for k, v in d.items():\n",
    "            ret[k] += v\n",
    "    return (ret)\n",
    "\n",
    "\n",
    "class Vertex(object):\n",
    "    \"\"\"Class to keep track of vertices in Graph.\n",
    "\n",
    "    Longer class information....\n",
    "\n",
    "    Attributes:\n",
    "        key: Unique key/ID to identify vertex.\n",
    "        neighbors: A dictionary of the surrounding connected vertices.\n",
    "        weights: A dictionary with keys: value of the neighbors and the\n",
    "            weight of the connecting edge.\n",
    "    \"\"\"\n",
    "    def __init__(self, key):\n",
    "        \"\"\"Initialize vertex with key\"\"\"\n",
    "        self.key = key\n",
    "        self.neighbors = defaultdict(dict)\n",
    "        self.weights = defaultdict(int)\n",
    "\n",
    "    def add_neighbor(self, neighbor):\n",
    "        self.neighbors[neighbor.key] = neighbor\n",
    "        self.weights[neighbor.key] += 1\n",
    "        return self\n",
    "\n",
    "    def __str__(self):\n",
    "        return (f'id: {self.key} -- neighbors: {[x.key for x in self.neighbors]}')\n",
    "    \n",
    "    def __repr__(self):\n",
    "        return f'Vertex {object}: id: {self.key}'\n",
    "    \n",
    "    def __add__(self, new):\n",
    "        if self.key == new.key:\n",
    "            self.neighbors.update(new.neighbors)\n",
    "            self.weights = dict_sum(self.weights, new.weights)\n",
    "            return self\n",
    "        \n",
    "    def get_connections(self):\n",
    "        return self.neighbors.keys(), self.weights\n",
    "\n",
    "    def get_weight(self, neighbor):\n",
    "        return self.weights[neighbor.key]\n",
    "    \n",
    "    def toDict(self):\n",
    "        return dict(self.weights)\n",
    "\n",
    "    \n",
    "class Graph(object):\n",
    "    \"\"\"Graph class for undirected network graphs.\n",
    "\n",
    "    Longer class information....\n",
    "\n",
    "    Attributes:\n",
    "        vertices: The vertices contained in the graph.\n",
    "    \"\"\"\n",
    "    def __init__(self):\n",
    "        self.vertices = {} #defaultdict(dict)\n",
    "\n",
    "    def add_vertex(self, vertex):\n",
    "        self.vertices[vertex.key] = vertex\n",
    "\n",
    "    def get_vertex(self, key):\n",
    "        try:\n",
    "            return self.vertices[key]\n",
    "        except KeyError:\n",
    "            return None\n",
    "\n",
    "    def __contains__(self, key):\n",
    "        return key in self.vertices\n",
    "\n",
    "    def add_edge(self, from_key, to_key):\n",
    "        \"\"\"Add vertices with the to and from keys to the graph and then\n",
    "        update the neighbors for both vertices since graph is undirected.\n",
    "        \"\"\"\n",
    "        if from_key not in self.vertices:\n",
    "            self.add_vertex(Vertex(from_key))\n",
    "        if to_key not in self.vertices:\n",
    "            self.add_vertex(Vertex(to_key))\n",
    "        self.vertices[from_key].add_neighbor(self.vertices[to_key])\n",
    "        self.vertices[to_key].add_neighbor(self.vertices[from_key])\n",
    "\n",
    "    def get_vertices(self):\n",
    "        return self.vertices.keys()\n",
    "\n",
    "    def __iter__(self):\n",
    "        return iter(self.vertices.values())\n",
    "    \n",
    "    def __str__(self):\n",
    "        return (f'Graph: vertices: {len([x for x in self.verticies])}')\n",
    "    \n",
    "    def toDict(self):\n",
    "        return {x:dict(y.weights) for x,y in self.vertices.items()}\n",
    "\n",
    "    def toJson(self):\n",
    "        return json.dumps(self.toDict(), sort_keys=True, indent=2)\n",
    "\n",
    "    def saveJson(self, filename):\n",
    "        with open(filename, 'w') as f:\n",
    "            f.write(self.toJson())\n",
    "\n",
    "def build_graph(product_generator, limit=100):\n",
    "    \"\"\"\n",
    "    Use generator of the products bought in each order to create an\n",
    "    undirected graph of items purchased together.\n",
    "    \"\"\"\n",
    "    graph = Graph()\n",
    "    for idx, product_list in enumerate(product_generator):\n",
    "        if idx >= limit:\n",
    "            break\n",
    "        product_pairs = it.combinations(product_list, 2)\n",
    "        for to_key, from_key in product_pairs:\n",
    "            graph.add_edge(to_key, from_key)\n",
    "\n",
    "    return graph"
   ]
  },
  {
   "cell_type": "markdown",
   "metadata": {},
   "source": [
    "## Load products list for each order and create an undirected network graph\n",
    "\n",
    "Here we load in the csv file that was the result of running the SQL query in `../src/data/queries/ ????`. This contains a list of products purchsed in each order. Looping over each order, we create product pairs such that the order of the pair is not important. From these product pairs, we update the graph by adding a vertex of the product id if it does not already exist, and then updating the weight of the edges between the product vertices."
   ]
  },
  {
   "cell_type": "code",
   "execution_count": 11,
   "metadata": {},
   "outputs": [],
   "source": [
    "products_from_order = read_order_product_sets(\"../data/interim/product_lists_by_order.csv\")"
   ]
  },
  {
   "cell_type": "code",
   "execution_count": 12,
   "metadata": {
    "scrolled": false
   },
   "outputs": [],
   "source": [
    "num_orders = 50000\n",
    "g = build_graph(products_from_order, num_orders)"
   ]
  },
  {
   "cell_type": "markdown",
   "metadata": {},
   "source": [
    "With the graph built, we can save the graph to disk as a json file."
   ]
  },
  {
   "cell_type": "code",
   "execution_count": 13,
   "metadata": {},
   "outputs": [],
   "source": [
    "g.saveJson(f'../data/interim/products_{num_orders}_orders_json_graph.json')"
   ]
  },
  {
   "cell_type": "markdown",
   "metadata": {},
   "source": [
    "### Use graph dictionary to create graph in NetworkX"
   ]
  },
  {
   "cell_type": "code",
   "execution_count": 14,
   "metadata": {},
   "outputs": [],
   "source": [
    "built_graph = nx.Graph(g.toDict())\n",
    "nx.write_graphml(built_graph, f'../data/interim/products_{num_orders}_orders_json_graph.graphml')"
   ]
  },
  {
   "cell_type": "code",
   "execution_count": 15,
   "metadata": {},
   "outputs": [
    {
     "name": "stderr",
     "output_type": "stream",
     "text": [
      "Warning: graph has 30757 nodes...layout may take a long time.\n"
     ]
    }
   ],
   "source": [
    "pgv_agraph = nx.nx_agraph.to_agraph(built_graph)\n",
    "with open(f'../data/interim/products_{num_orders}_orders_json_graph.dot', 'w') as f:\n",
    "    f.write(pgv_agraph.string())"
   ]
  },
  {
   "cell_type": "code",
   "execution_count": 9,
   "metadata": {},
   "outputs": [],
   "source": [
    "# # testning the different layout formats\n",
    "# for layout in ['dot', 'twopi', 'neato', 'circo', 'fdp', 'sfdp']:\n",
    "#     pgv_agraph.layout(prog=f'{layout}')\n",
    "#     pgv_agraph.draw(f'../data/processed/products_graph_{num_orders}_orders_{layout}.png',\n",
    "#            format='png', prog=f'{layout}')"
   ]
  },
  {
   "cell_type": "code",
   "execution_count": 119,
   "metadata": {},
   "outputs": [],
   "source": [
    "# graph_dict = g.toDict()"
   ]
  },
  {
   "cell_type": "code",
   "execution_count": 120,
   "metadata": {},
   "outputs": [],
   "source": [
    "# for key in graph_dict.keys():\n",
    "#     for to_key in graph_dict[key].keys():\n",
    "#         G.add_edge(key, to_key, weight=graph_dict[key][to_key])"
   ]
  },
  {
   "cell_type": "code",
   "execution_count": null,
   "metadata": {},
   "outputs": [],
   "source": []
  },
  {
   "cell_type": "code",
   "execution_count": null,
   "metadata": {},
   "outputs": [],
   "source": []
  }
 ],
 "metadata": {
  "kernelspec": {
   "display_name": "Python 3",
   "language": "python",
   "name": "python3"
  },
  "language_info": {
   "codemirror_mode": {
    "name": "ipython",
    "version": 3
   },
   "file_extension": ".py",
   "mimetype": "text/x-python",
   "name": "python",
   "nbconvert_exporter": "python",
   "pygments_lexer": "ipython3",
   "version": "3.7.3"
  }
 },
 "nbformat": 4,
 "nbformat_minor": 2
}
