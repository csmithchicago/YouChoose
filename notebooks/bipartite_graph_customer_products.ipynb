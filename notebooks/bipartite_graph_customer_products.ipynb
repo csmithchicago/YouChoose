{
 "cells": [
  {
   "cell_type": "markdown",
   "metadata": {},
   "source": [
    "# Notebook for building bipartite graphs"
   ]
  },
  {
   "cell_type": "code",
   "execution_count": 1,
   "metadata": {},
   "outputs": [],
   "source": [
    "\"\"\" build network graph of prior purchases \"\"\"\n",
    "import csv\n",
    "import itertools as it\n",
    "import json\n",
    "import pandas as pd\n",
    "from collections import defaultdict\n",
    "from io import StringIO as sio\n",
    "\n",
    "import matplotlib.pyplot as plt\n",
    "import networkx as nx\n",
    "from networkx.algorithms import bipartite\n",
    "import numpy as np\n",
    "import pygraphviz as pgv"
   ]
  },
  {
   "cell_type": "markdown",
   "metadata": {},
   "source": [
    "## Load csv file containing product-customer pairs\n",
    "\n",
    "Here we load in the csv file that was the result of running the SQL query in `../src/data/queries/bipartite_graph.pgsql` and copying the resulting table to a csv file."
   ]
  },
  {
   "cell_type": "code",
   "execution_count": 2,
   "metadata": {},
   "outputs": [],
   "source": [
    "customer_products_db = pd.read_csv(\"../data/interim/bipartite_table.csv\")"
   ]
  },
  {
   "cell_type": "code",
   "execution_count": 3,
   "metadata": {},
   "outputs": [],
   "source": [
    "user_list = customer_products_db.user_id.astype(str).unique()\n",
    "product_list = customer_products_db.product_id.unique()\n",
    "up_list = []"
   ]
  },
  {
   "cell_type": "code",
   "execution_count": null,
   "metadata": {},
   "outputs": [],
   "source": [
    "for row in customer_products_db.itertuples():\n",
    "    up_list.append((str(row.user_id), row.product_id))"
   ]
  },
  {
   "cell_type": "code",
   "execution_count": null,
   "metadata": {},
   "outputs": [],
   "source": [
    "# create the bipartite graph with networkx\n",
    "B = nx.Graph()\n",
    "\n",
    "B.add_nodes_from(user_list, bipartite=0)\n",
    "B.add_nodes_from(product_list, bipartite=1)\n",
    "B.add_edges_from(up_list)\n",
    "\n",
    "top, bottom = nx.bipartite.sets(B)"
   ]
  },
  {
   "cell_type": "code",
   "execution_count": null,
   "metadata": {},
   "outputs": [],
   "source": [
    "nx.draw(B)"
   ]
  },
  {
   "cell_type": "code",
   "execution_count": null,
   "metadata": {},
   "outputs": [],
   "source": [
    "top, bottom = nx.bipartite.sets(B)\n",
    "nx.draw_networkx(\n",
    "    B,\n",
    "    pos=nx.drawing.layout.bipartite_layout(B, top), \n",
    "    width=1)"
   ]
  },
  {
   "cell_type": "code",
   "execution_count": null,
   "metadata": {},
   "outputs": [],
   "source": []
  },
  {
   "cell_type": "code",
   "execution_count": null,
   "metadata": {},
   "outputs": [],
   "source": []
  },
  {
   "cell_type": "code",
   "execution_count": null,
   "metadata": {},
   "outputs": [],
   "source": []
  },
  {
   "cell_type": "code",
   "execution_count": null,
   "metadata": {},
   "outputs": [],
   "source": []
  }
 ],
 "metadata": {
  "kernelspec": {
   "display_name": "Python 3",
   "language": "python",
   "name": "python3"
  },
  "language_info": {
   "codemirror_mode": {
    "name": "ipython",
    "version": 3
   },
   "file_extension": ".py",
   "mimetype": "text/x-python",
   "name": "python",
   "nbconvert_exporter": "python",
   "pygments_lexer": "ipython3",
   "version": "3.7.3"
  }
 },
 "nbformat": 4,
 "nbformat_minor": 2
}
