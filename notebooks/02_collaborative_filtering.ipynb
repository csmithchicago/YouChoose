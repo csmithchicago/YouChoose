{
 "cells": [
  {
   "cell_type": "code",
   "execution_count": 1,
   "metadata": {},
   "outputs": [],
   "source": [
    "import numpy as np\n",
    "import pandas as pd\n",
    "import matplotlib.pyplot as plt\n",
    "import torch\n",
    "import torch.nn as nn\n",
    "import torch.optim as optim\n",
    "from torch.autograd import Variable\n",
    "from torch.utils.data import Dataset, DataLoader \n",
    "import random"
   ]
  },
  {
   "cell_type": "code",
   "execution_count": 2,
   "metadata": {},
   "outputs": [],
   "source": [
    "dev = torch.device(\"cuda\") if torch.cuda.is_available() else torch.device(\"cpu\")"
   ]
  },
  {
   "cell_type": "code",
   "execution_count": 3,
   "metadata": {},
   "outputs": [],
   "source": [
    "df = pd.read_csv(\"../data/interim/small_10000_orders_weighted_adjacency_matrix.csv\", nrows=2000)\n",
    "df[\"rating\"] = df.weight"
   ]
  },
  {
   "cell_type": "code",
   "execution_count": 5,
   "metadata": {},
   "outputs": [
    {
     "name": "stdout",
     "output_type": "stream",
     "text": [
      "5 Most Purchased Products:\n",
      "     product_id  weight\n",
      "388       13176      87\n",
      "525       17794      59\n",
      "693       22935      55\n",
      "805       26369      50\n",
      "800       26209      48\n"
     ]
    },
    {
     "data": {
      "image/png": "[encoded data removed]",
      "text/plain": [
       "<Figure size 1080x360 with 2 Axes>"
      ]
     },
     "metadata": {
      "needs_background": "light"
     },
     "output_type": "display_data"
    }
   ],
   "source": [
    "df_grouped = df[[\"product_id\", \"weight\"]].groupby([\"product_id\"]).sum()\n",
    "df_grouped.reset_index(inplace=True)\n",
    "print(f\"5 Most Purchased Products:\\n{df_grouped.sort_values(by='weight', ascending=False).head(5)}\")\n",
    "\n",
    "f, (ax1, ax2) = plt.subplots(ncols=2, figsize=(15,5))\n",
    "ax1.hist(df.weight, bins=50)\n",
    "ax1.set_yscale('log')\n",
    "ax1.set_title(f\"Average Number of Purchases Per Order: {df.weight.mean():.2f}\")\n",
    "\n",
    "ax2.hist(df_grouped.weight, bins=50)\n",
    "ax2.set_title(f\"Average Number of Times Each Product is Ordered: {df_grouped.weight.mean():.2f}\")\n",
    "ax2.set_yscale('log')\n",
    "\n",
    "plt.show()"
   ]
  },
  {
   "cell_type": "markdown",
   "metadata": {},
   "source": [
    "## Collaborative Filtering"
   ]
  },
  {
   "cell_type": "markdown",
   "metadata": {},
   "source": [
    "For the models we will want to use a numberic index rather than the product_id and user_id so that we can easily match the embedding vector with the user or product."
   ]
  },
  {
   "cell_type": "code",
   "execution_count": 6,
   "metadata": {},
   "outputs": [],
   "source": [
    "def list_to_indexed_dict(list_):\n",
    "    return dict(enumerate(sorted(set(list_))))\n",
    "\n",
    "\n",
    "class RatingsDataset(Dataset):\n",
    "    \"\"\"\n",
    "    User, product, ratings dataset. \n",
    "    \"\"\"\n",
    "    def __init__(self, dataframe, product_dict, user_dict, \n",
    "                 dev=torch.device(\"cpu\"), reweighting=dict()):\n",
    "        \"\"\"\n",
    "        Args:\n",
    "            dataframe (pandas.DataFrame): Dataframe containing ratings.\n",
    "            product_dict (dict): Dictionary mapping product ids to indices.\n",
    "            user_dict (dict): Dictionary mapping user ids to indices.\n",
    "            reweighting (dict, optional): Dictionary mapping ratings to new values.\n",
    "            dev (torch device): Hardware that the model should run on.\n",
    "        \"\"\"\n",
    "        super(RatingsDataset, self).__init__()\n",
    "        self.df = dataframe\n",
    "        self.p_dict = product_dict\n",
    "        self.u_dict = user_dict\n",
    "        self.w_dict = reweighting\n",
    "        self.dev = dev\n",
    "\n",
    "\n",
    "    def __len__(self):\n",
    "        return len(self.df)\n",
    "    \n",
    "\n",
    "    def __getitem__(self, idx):\n",
    "        \"\"\"\n",
    "        Get and return Tensor for item, user, ratings triplet\n",
    "        \"\"\"\n",
    "        item = self.transform(self.df[\"product_id\"].iloc[idx], self.p_dict)\n",
    "        user = self.transform(self.df[\"user_id\"].iloc[idx], self.u_dict)\n",
    "        rating = self.transform(self.df[\"rating\"].iloc[idx], self.w_dict)\n",
    "\n",
    "        return (item, user, rating)\n",
    "\n",
    "    def transform(self, df_rows, mapping):\n",
    "        \"\"\"\n",
    "        Replace dataframe with index values and convert to torch.Tensor\n",
    "        \"\"\"\n",
    "        transformed = pd.Series(df_rows).replace(mapping).to_numpy()\n",
    "        return torch.from_numpy(transformed).to(self.dev)\n",
    "\n",
    "\n",
    "def dataframe_split(df, train_frac=0.80, test_frac=0.10):\n",
    "    \"\"\"Split dataframe into training, testing, and validation sets.\"\"\"\n",
    "    train_df = df.sample(frac=train_frac, random_state=23)\n",
    "    test_df = df.drop(train_df.index).sample(int(test_frac * len(df)),\n",
    "                                            random_state=23)\n",
    "    val_df = df.drop(pd.concat([train_df, test_df], axis=0).index)\n",
    "\n",
    "    return train_df, val_df, test_df\n",
    "\n",
    "\n",
    "class MatrixFactorization(torch.nn.Module):\n",
    "    \"\"\"Matrix factorization using pytorch\"\"\"\n",
    "    def __init__(self, n_users, n_products, n_factors=20):\n",
    "        \"\"\"\n",
    "        Initalize the user and product embedding vectors in latent space.\n",
    "        \n",
    "        Args:\n",
    "            n_users (int): Number of users with prior purchases.\n",
    "            n_products (int): Total number of products purchased.\n",
    "            n_factors (integer, optional): Dimension of the latent embedding space.\n",
    "        \"\"\"\n",
    "        super(MatrixFactorization, self).__init__()\n",
    "        self.user_factors = nn.Embedding(n_users, n_factors, sparse=True)\n",
    "        self.product_factors = nn.Embedding(n_products, n_factors, sparse=True)\n",
    "        self.user_bias = nn.Embedding(n_users, 1)\n",
    "        self.product_bias = nn.Embedding(n_products, 1)\n",
    "\n",
    "\n",
    "    def forward(self, user, item):\n",
    "        \"\"\" Matrix multiplication between user and product embedding vectors.\"\"\"\n",
    "        bias = self.user_bias(user).squeeze() + self.product_bias(item).squeeze()\n",
    "        matrix = ((self.user_factors(user)) * (self.product_factors(item))).sum(1)\n",
    "\n",
    "        return matrix + bias"
   ]
  },
  {
   "cell_type": "code",
   "execution_count": 7,
   "metadata": {},
   "outputs": [],
   "source": [
    "index_to_product_dict = list_to_indexed_dict(df.product_id)\n",
    "index_to_user_dict = list_to_indexed_dict(df.user_id)\n",
    "\n",
    "product_to_index_dict = {key: value for value, key in index_to_product_dict.items()}\n",
    "user_to_index_dict = {key: value for value, key in index_to_user_dict.items()}\n",
    "\n",
    "train_df, val_df, test_df = dataframe_split(df)\n",
    "reweight_dict = {val:1.0 for val in df.weight.unique()}\n",
    "\n",
    "train_data = RatingsDataset(train_df, product_to_index_dict, user_to_index_dict,\n",
    "                            reweighting=reweight_dict, dev=dev)\n",
    "val_data = RatingsDataset(val_df, product_to_index_dict, user_to_index_dict,\n",
    "                          reweighting=reweight_dict, dev=dev)\n",
    "test_data = RatingsDataset(test_df, product_to_index_dict, user_to_index_dict,\n",
    "                           reweighting=reweight_dict, dev=dev)"
   ]
  },
  {
   "cell_type": "code",
   "execution_count": 10,
   "metadata": {
    "scrolled": false
   },
   "outputs": [
    {
     "ename": "NameError",
     "evalue": "name 'train_loader' is not defined",
     "output_type": "error",
     "traceback": [
      "\u001b[0;31m---------------------------------------------------------------------------\u001b[0m",
      "\u001b[0;31mNameError\u001b[0m                                 Traceback (most recent call last)",
      "\u001b[0;32m<ipython-input-10-8c5e722dd2a3>\u001b[0m in \u001b[0;36m<module>\u001b[0;34m\u001b[0m\n\u001b[1;32m     14\u001b[0m     \u001b[0mtrain_loss\u001b[0m \u001b[0;34m=\u001b[0m \u001b[0;36m0\u001b[0m\u001b[0;34m\u001b[0m\u001b[0;34m\u001b[0m\u001b[0m\n\u001b[1;32m     15\u001b[0m     \u001b[0mmodel\u001b[0m\u001b[0;34m.\u001b[0m\u001b[0mtrain\u001b[0m\u001b[0;34m(\u001b[0m\u001b[0;34m)\u001b[0m\u001b[0;34m\u001b[0m\u001b[0;34m\u001b[0m\u001b[0m\n\u001b[0;32m---> 16\u001b[0;31m     \u001b[0;32mfor\u001b[0m \u001b[0mitem\u001b[0m\u001b[0;34m,\u001b[0m \u001b[0muser\u001b[0m\u001b[0;34m,\u001b[0m \u001b[0mrating\u001b[0m \u001b[0;32min\u001b[0m \u001b[0mtrain_loader\u001b[0m\u001b[0;34m:\u001b[0m\u001b[0;34m\u001b[0m\u001b[0;34m\u001b[0m\u001b[0m\n\u001b[0m\u001b[1;32m     17\u001b[0m         \u001b[0mprediction\u001b[0m \u001b[0;34m=\u001b[0m \u001b[0mmodel\u001b[0m\u001b[0;34m(\u001b[0m\u001b[0muser\u001b[0m\u001b[0;34m,\u001b[0m \u001b[0mitem\u001b[0m\u001b[0;34m)\u001b[0m\u001b[0;34m\u001b[0m\u001b[0;34m\u001b[0m\u001b[0m\n\u001b[1;32m     18\u001b[0m         \u001b[0mloss\u001b[0m \u001b[0;34m=\u001b[0m \u001b[0mloss_fn\u001b[0m\u001b[0;34m(\u001b[0m\u001b[0mprediction\u001b[0m\u001b[0;34m,\u001b[0m \u001b[0mrating\u001b[0m\u001b[0;34m.\u001b[0m\u001b[0mfloat\u001b[0m\u001b[0;34m(\u001b[0m\u001b[0;34m)\u001b[0m\u001b[0;34m)\u001b[0m\u001b[0;34m\u001b[0m\u001b[0;34m\u001b[0m\u001b[0m\n",
      "\u001b[0;31mNameError\u001b[0m: name 'train_loader' is not defined"
     ]
    }
   ],
   "source": [
    "n_users, n_products = len(user_to_index_dict), len(product_to_index_dict)\n",
    "\n",
    "model = MatrixFactorization(n_users, n_products, n_factors=10)\n",
    "model.to(dev)\n",
    "loss_fn = torch.nn.MSELoss() \n",
    "optimizer = torch.optim.SGD(model.parameters(), lr=0.001)\n",
    "\n",
    "bs = 10\n",
    "epochs = 20\n",
    "print_every = 5\n",
    "\n",
    "train_loader = DataLoader(train_data, batch_size=bs, shuffle=True)\n",
    "val_loader = DataLoader(val_data, batch_size=bs)\n",
    "test_loader = DataLoader(test_data, batch_size=bs)\n",
    "\n",
    "for epoch in range(epochs):\n",
    "    # training\n",
    "    train_loss = 0\n",
    "    model.train()\n",
    "    for item, user, rating in train_loader:\n",
    "        prediction = model(user, item)\n",
    "        loss = loss_fn(prediction, rating.float())\n",
    "        train_loss += loss.item()\n",
    "\n",
    "        loss.backward()\n",
    "        optimizer.step()\n",
    "\n",
    "    model.eval()\n",
    "    with torch.no_grad():\n",
    "        val_loss = [\n",
    "            loss_fn(model(user, item), rating.float()).item()\n",
    "            for item, user, rating in val_loader\n",
    "        ]\n",
    "        \n",
    "        val_loss = np.sum(val_loss)\n",
    "    \n",
    "    if (epoch + 1) % print_every == 0:\n",
    "        print(f\"epoch #{epoch + 1}, training loss: {train_loss:0.3f}, validation loss: {val_loss:0.3f}\")\n",
    "        \n"
   ]
  },
  {
   "cell_type": "code",
   "execution_count": 346,
   "metadata": {},
   "outputs": [],
   "source": [
    "users_items = model.user_factors.weight @ model.product_factors.weight.transpose(0,1)\n",
    "values = users_items.detach().numpy()"
   ]
  },
  {
   "cell_type": "code",
   "execution_count": 347,
   "metadata": {},
   "outputs": [
    {
     "data": {
      "image/png": "[encoded data removed]",
      "text/plain": [
       "<Figure size 432x288 with 1 Axes>"
      ]
     },
     "metadata": {
      "needs_background": "light"
     },
     "output_type": "display_data"
    }
   ],
   "source": [
    "plt.hist(values.ravel(), bins=50)\n",
    "plt.show()"
   ]
  },
  {
   "cell_type": "code",
   "execution_count": null,
   "metadata": {},
   "outputs": [],
   "source": [
    "def recommend_item_for_user(model, user_id):\n",
    "    \"\"\"\n",
    "    \n",
    "    \"\"\"\n",
    "    m = model.eval().cpu()\n",
    "    \n",
    "    user_ids = torch.LongTensor([user2idx[u] for u in [user_id] * len(items)])\n",
    "    item_ids = torch.LongTensor([item2idx[b] for b in items])\n",
    "    \n",
    "    remove = set(ratings[ratings[user_col] == user_id][item_col].values)\n",
    "    \n",
    "    preds = m(user_ids,item_ids).detach().numpy()\n",
    "    pred_item = [(p,b) for p,b in sorted(zip(preds, items), reverse = True) if b not in remove]\n",
    "    \n",
    "    return pred_item\n",
    "\n",
    "\n",
    "def recommend_user_for_item(model, item_id):\n",
    "    \"\"\"\n",
    "    \n",
    "    \"\"\"\n",
    "    m = model.eval().cpu()\n",
    "    \n",
    "    user_ids = torch.LongTensor([user2idx[u] for u in users])\n",
    "    book_ids = torch.LongTensor([item2idx[b] for b in [item_id]*len(users)])\n",
    "    \n",
    "    remove = set(ratings[ratings[item_col] == book_id][user_col].values)\n",
    "    \n",
    "    preds = m(user_ids,item_ids).detach().numpy()\n",
    "    pred_user = [(p,u) for p,u in sorted(zip(preds,users), reverse = True) if u not in remove]\n",
    "    \n",
    "    return pred_user\n",
    "\n"
   ]
  },
  {
   "cell_type": "code",
   "execution_count": null,
   "metadata": {},
   "outputs": [],
   "source": []
  },
  {
   "cell_type": "code",
   "execution_count": null,
   "metadata": {},
   "outputs": [],
   "source": []
  },
  {
   "cell_type": "code",
   "execution_count": null,
   "metadata": {},
   "outputs": [],
   "source": []
  },
  {
   "cell_type": "code",
   "execution_count": null,
   "metadata": {},
   "outputs": [],
   "source": []
  },
  {
   "cell_type": "code",
   "execution_count": null,
   "metadata": {},
   "outputs": [],
   "source": []
  },
  {
   "cell_type": "code",
   "execution_count": null,
   "metadata": {},
   "outputs": [],
   "source": []
  },
  {
   "cell_type": "code",
   "execution_count": null,
   "metadata": {},
   "outputs": [],
   "source": []
  },
  {
   "cell_type": "code",
   "execution_count": null,
   "metadata": {},
   "outputs": [],
   "source": []
  }
 ],
 "metadata": {
  "kernelspec": {
   "display_name": "Python 3",
   "language": "python",
   "name": "python3"
  },
  "language_info": {
   "codemirror_mode": {
    "name": "ipython",
    "version": 3
   },
   "file_extension": ".py",
   "mimetype": "text/x-python",
   "name": "python",
   "nbconvert_exporter": "python",
   "pygments_lexer": "ipython3",
   "version": "3.7.3"
  }
 },
 "nbformat": 4,
 "nbformat_minor": 2
}
