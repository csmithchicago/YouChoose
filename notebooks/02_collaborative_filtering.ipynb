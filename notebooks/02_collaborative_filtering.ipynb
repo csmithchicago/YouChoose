{
 "cells": [
  {
   "cell_type": "code",
   "execution_count": 51,
   "metadata": {},
   "outputs": [],
   "source": [
    "import numpy as np\n",
    "import pandas as pd\n",
    "import matplotlib.pyplot as plt\n",
    "from sklearn.model_selection import train_test_split\n",
    "# import torch\n",
    "# import torch.nn as nn\n",
    "# import torch.optim as optim\n",
    "# from torch.autograd import Variable\n",
    "import random"
   ]
  },
  {
   "cell_type": "code",
   "execution_count": 32,
   "metadata": {},
   "outputs": [
    {
     "data": {
      "text/html": [
       "<div>\n",
       "<style scoped>\n",
       "    .dataframe tbody tr th:only-of-type {\n",
       "        vertical-align: middle;\n",
       "    }\n",
       "\n",
       "    .dataframe tbody tr th {\n",
       "        vertical-align: top;\n",
       "    }\n",
       "\n",
       "    .dataframe thead th {\n",
       "        text-align: right;\n",
       "    }\n",
       "</style>\n",
       "<table border=\"1\" class=\"dataframe\">\n",
       "  <thead>\n",
       "    <tr style=\"text-align: right;\">\n",
       "      <th></th>\n",
       "      <th>user_id</th>\n",
       "      <th>product_id</th>\n",
       "      <th>weight</th>\n",
       "    </tr>\n",
       "  </thead>\n",
       "  <tbody>\n",
       "    <tr>\n",
       "      <th>0</th>\n",
       "      <td>55623</td>\n",
       "      <td>878</td>\n",
       "      <td>7</td>\n",
       "    </tr>\n",
       "    <tr>\n",
       "      <th>1</th>\n",
       "      <td>55623</td>\n",
       "      <td>1463</td>\n",
       "      <td>2</td>\n",
       "    </tr>\n",
       "    <tr>\n",
       "      <th>2</th>\n",
       "      <td>55623</td>\n",
       "      <td>2344</td>\n",
       "      <td>2</td>\n",
       "    </tr>\n",
       "    <tr>\n",
       "      <th>3</th>\n",
       "      <td>55623</td>\n",
       "      <td>3339</td>\n",
       "      <td>3</td>\n",
       "    </tr>\n",
       "    <tr>\n",
       "      <th>4</th>\n",
       "      <td>55623</td>\n",
       "      <td>3566</td>\n",
       "      <td>1</td>\n",
       "    </tr>\n",
       "  </tbody>\n",
       "</table>\n",
       "</div>"
      ],
      "text/plain": [
       "   user_id  product_id  weight\n",
       "0    55623         878       7\n",
       "1    55623        1463       2\n",
       "2    55623        2344       2\n",
       "3    55623        3339       3\n",
       "4    55623        3566       1"
      ]
     },
     "execution_count": 32,
     "metadata": {},
     "output_type": "execute_result"
    }
   ],
   "source": [
    "df = pd.read_csv(\"../data/interim/small_10000_orders_weighted_adjacency_matrix.csv\")\n",
    "df.head()"
   ]
  },
  {
   "cell_type": "code",
   "execution_count": 33,
   "metadata": {},
   "outputs": [
    {
     "data": {
      "image/png": "[encoded data removed]",
      "text/plain": [
       "<Figure size 432x288 with 1 Axes>"
      ]
     },
     "metadata": {
      "needs_background": "light"
     },
     "output_type": "display_data"
    }
   ],
   "source": [
    "plt.hist(df.weight, bins=50)\n",
    "plt.yscale('log')\n",
    "plt.title(f\"Average Number of Purchases Per Order: {df.weight.mean():.2f}\")\n",
    "plt.show()"
   ]
  },
  {
   "cell_type": "code",
   "execution_count": 34,
   "metadata": {},
   "outputs": [
    {
     "data": {
      "text/html": [
       "<div>\n",
       "<style scoped>\n",
       "    .dataframe tbody tr th:only-of-type {\n",
       "        vertical-align: middle;\n",
       "    }\n",
       "\n",
       "    .dataframe tbody tr th {\n",
       "        vertical-align: top;\n",
       "    }\n",
       "\n",
       "    .dataframe thead th {\n",
       "        text-align: right;\n",
       "    }\n",
       "</style>\n",
       "<table border=\"1\" class=\"dataframe\">\n",
       "  <thead>\n",
       "    <tr style=\"text-align: right;\">\n",
       "      <th></th>\n",
       "      <th>product_id</th>\n",
       "      <th>weight</th>\n",
       "    </tr>\n",
       "  </thead>\n",
       "  <tbody>\n",
       "    <tr>\n",
       "      <th>3169</th>\n",
       "      <td>13176</td>\n",
       "      <td>1307</td>\n",
       "    </tr>\n",
       "    <tr>\n",
       "      <th>5904</th>\n",
       "      <td>24852</td>\n",
       "      <td>1305</td>\n",
       "    </tr>\n",
       "    <tr>\n",
       "      <th>5228</th>\n",
       "      <td>21903</td>\n",
       "      <td>963</td>\n",
       "    </tr>\n",
       "    <tr>\n",
       "      <th>5032</th>\n",
       "      <td>21137</td>\n",
       "      <td>861</td>\n",
       "    </tr>\n",
       "    <tr>\n",
       "      <th>11221</th>\n",
       "      <td>47209</td>\n",
       "      <td>785</td>\n",
       "    </tr>\n",
       "    <tr>\n",
       "      <th>6225</th>\n",
       "      <td>26209</td>\n",
       "      <td>525</td>\n",
       "    </tr>\n",
       "    <tr>\n",
       "      <th>6637</th>\n",
       "      <td>27966</td>\n",
       "      <td>478</td>\n",
       "    </tr>\n",
       "    <tr>\n",
       "      <th>11335</th>\n",
       "      <td>47766</td>\n",
       "      <td>471</td>\n",
       "    </tr>\n",
       "    <tr>\n",
       "      <th>4015</th>\n",
       "      <td>16797</td>\n",
       "      <td>449</td>\n",
       "    </tr>\n",
       "    <tr>\n",
       "      <th>11308</th>\n",
       "      <td>47626</td>\n",
       "      <td>419</td>\n",
       "    </tr>\n",
       "  </tbody>\n",
       "</table>\n",
       "</div>"
      ],
      "text/plain": [
       "       product_id  weight\n",
       "3169        13176    1307\n",
       "5904        24852    1305\n",
       "5228        21903     963\n",
       "5032        21137     861\n",
       "11221       47209     785\n",
       "6225        26209     525\n",
       "6637        27966     478\n",
       "11335       47766     471\n",
       "4015        16797     449\n",
       "11308       47626     419"
      ]
     },
     "execution_count": 34,
     "metadata": {},
     "output_type": "execute_result"
    }
   ],
   "source": [
    "df_grouped = df[[\"product_id\", \"weight\"]].groupby([\"product_id\"]).sum()\n",
    "df_grouped.reset_index(inplace=True)\n",
    "df_grouped.sort_values(by=\"weight\", ascending=False).head(10)"
   ]
  },
  {
   "cell_type": "code",
   "execution_count": 35,
   "metadata": {},
   "outputs": [
    {
     "data": {
      "image/png": "[encoded data removed]",
      "text/plain": [
       "<Figure size 432x288 with 1 Axes>"
      ]
     },
     "metadata": {
      "needs_background": "light"
     },
     "output_type": "display_data"
    }
   ],
   "source": [
    "plt.hist(df_grouped.weight, bins=100)\n",
    "plt.title(f\"Average Number of Times Each Product is Ordered: {df_grouped.weight.mean():.2f}\")\n",
    "plt.yscale('log')\n",
    "plt.show()"
   ]
  },
  {
   "cell_type": "markdown",
   "metadata": {},
   "source": [
    "## Collaborative Filtering\n",
    "\n",
    "Our goal is to create embedding matrices for users, and products in a low-dimensional\n",
    "latent space. In the user-product matrix, instead of weights, we will just indicate\n",
    "if there was a prior purchase with a 1, and no previous purchase with a 0."
   ]
  },
  {
   "cell_type": "code",
   "execution_count": 52,
   "metadata": {},
   "outputs": [],
   "source": [
    "df[\"interaction\"] = (df.weight/df.weight).astype(int)"
   ]
  },
  {
   "cell_type": "markdown",
   "metadata": {},
   "source": [
    "For the models we will want to use a numberic index rather than the product_id and user_id so that we can easily match the embedding vector with the user or product."
   ]
  },
  {
   "cell_type": "code",
   "execution_count": 62,
   "metadata": {},
   "outputs": [],
   "source": [
    "def idx2id(id_list):\n",
    "    return dict(enumerate(sorted(set(id_list))))"
   ]
  },
  {
   "cell_type": "code",
   "execution_count": 65,
   "metadata": {},
   "outputs": [],
   "source": [
    "idx2product = idx2id(df.product_id)\n",
    "idx2user = idx2id(df.user_id)\n",
    "\n",
    "product2idx = {key: value for value, key in idx2product.items()}\n",
    "user2idx = {key: value for value, key in idx2user.items()}"
   ]
  },
  {
   "cell_type": "code",
   "execution_count": null,
   "metadata": {},
   "outputs": [],
   "source": [
    "# this takes a little bit of time\n",
    "df.user_id = df.user_id.replace(user2idx)\n",
    "df.product_id = df.product_id.replace(product2idx)"
   ]
  },
  {
   "cell_type": "code",
   "execution_count": null,
   "metadata": {},
   "outputs": [],
   "source": [
    "# creating the training, validation, and testing protion of the datasets.\n",
    "X_train, X_test, y_train, y_test = train_test_split(df[[\"user_id\", \"product_id\"]], df.interaction, \n",
    "                                                    test_size=0.3, random_state=42)\n",
    "X_val, X_test, y_val, y_test = train_test_split(X_test, y_test,\n",
    "                                                test_size=0.5, random_state=22)"
   ]
  },
  {
   "cell_type": "code",
   "execution_count": 61,
   "metadata": {},
   "outputs": [],
   "source": [
    "train_products, train_users = \n",
    "val_products, val_users = id2idx(X_val.user_id)\n",
    "test_products, test_users = id2idx(X_test.user_id)"
   ]
  },
  {
   "cell_type": "code",
   "execution_count": null,
   "metadata": {},
   "outputs": [],
   "source": [
    "class MatrixFactorization(nn.Module):\n",
    "    \"\"\"\n",
    "    \n",
    "    \"\"\"\n",
    "    def __init__(self, n_users, n_products, n_factors=20):\n",
    "        \"\"\"\n",
    "        \n",
    "        \"\"\"\n",
    "        super(MatrixFactorization).__init__()\n",
    "        # create embeddings\n",
    "        self.user_factors = nn.Embedding(n_users, n_factors, sparse=True)\n",
    "        self.product_factors = nn.Embedding(n_products, n_factors, sparse=True)\n",
    "\n",
    "    def forward(self, user, product):\n",
    "        # matrix multiplication\n",
    "        return (self.user_factors(user) * self.product_factors(item)).sum(1)\n",
    "\n",
    "    def predict(self, user, product):\n",
    "        return 1 if self.forward(user, item) >= 0.5 else 0"
   ]
  },
  {
   "cell_type": "code",
   "execution_count": null,
   "metadata": {},
   "outputs": [],
   "source": [
    "n_users, n_products = len(user2idx), len(product2idx)\n",
    "\n",
    "model = MatrixFactorization(n_users, n_products, n_factors=20)\n",
    "loss_fn = torch.nn.MSELoss() \n",
    "optimizer = torch.optim.SGD(model.parameters(),\n",
    "                            lr=1e-6)\n",
    "\n",
    "for user, item in zip(users, items):\n",
    "    # get user, item and rating data\n",
    "    rating = Variable(torch.FloatTensor([ratings[user, item]]))\n",
    "    user = Variable(torch.LongTensor([int(user)]))\n",
    "    item = Variable(torch.LongTensor([int(item)]))\n",
    "\n",
    "    # predict\n",
    "    prediction = model(user, item)\n",
    "    loss = loss_fn(prediction, rating)\n",
    "\n",
    "    # backpropagate\n",
    "    loss.backward()\n",
    "\n",
    "    # update weights\n",
    "    optimizer.step()"
   ]
  },
  {
   "cell_type": "code",
   "execution_count": null,
   "metadata": {},
   "outputs": [],
   "source": [
    "# neural net based on Embedding matrices\n",
    "# model reference -> https://github.com/fastai/fastai/\n",
    "class EmbeddingModel(nn.Module):\n",
    "    def __init__(self, n_factors, n_users, n_items, y_range, initialise = 0.01):\n",
    "        super().__init__()\n",
    "        self.y_range = y_range\n",
    "        self.u_weight = nn.Embedding(n_users, n_factors)\n",
    "        self.i_weight = nn.Embedding(n_items, n_factors)\n",
    "        self.u_bias = nn.Embedding(n_users, 1)\n",
    "        self.i_bias = nn.Embedding(n_items, 1)\n",
    "        \n",
    "        # initialise the weights of the embeddings\n",
    "        self.u_weight.weight.data.uniform_(-initialise, initialise)\n",
    "        self.i_weight.weight.data.uniform_(-initialise, initialise)\n",
    "        self.u_bias.weight.data.uniform_(-initialise, initialise)\n",
    "        self.i_bias.weight.data.uniform_(-initialise, initialise)\n",
    "\n",
    "    def forward(self, users, items):\n",
    "        # dot multiply the weights for the given user_id and item_id\n",
    "        dot = self.u_weight(users)* self.i_weight(items)\n",
    "        \n",
    "        # sum the result of dot multiplication above and add both the bias terms\n",
    "        res = dot.sum(1) + self.u_bias(users).squeeze() + self.i_bias(items).squeeze()\n",
    "        \n",
    "        # return the output in the given range\n",
    "        return torch.sigmoid(res) * (self.y_range[1]-self.y_range[0]) + self.y_range[0]\n",
    "\n",
    "    \n",
    "# create a model object\n",
    "# y_range has been extended(0-11) than required(1-10) to make the\n",
    "# values lie in the linear region of the sigmoid function\n",
    "model = EmbeddingModel(10, len(users), len(items), [0,11], initialise = 0.01).cuda()\n",
    "\n",
    "# split the data, returns a list [train, valid]\n",
    "data = get_data(ratings, 0.1)\n",
    "\n",
    "# loss = mean((target_rating - predicted_rating)**2)\n",
    "loss_function = nn.MSELoss()\n",
    "\n",
    "# optimizer function will update the weights of the Neural Net\n",
    "optimizer = optim.SGD(model.parameters(), lr=0.05, momentum=0.9)\n",
    "\n",
    "# batch size for each input\n",
    "bs = 128\n",
    "\n",
    "\n",
    "def train(epochs = 10, bs = 64):\n",
    "    for epoch in range(epochs):\n",
    "        \n",
    "        # training the model\n",
    "        i=0\n",
    "        total_loss = 0.0\n",
    "        ct = 0\n",
    "        while i < len(data[0]):\n",
    "            x1,x2,y = get_batch(data[0],i,i+bs)\n",
    "            i+=bs\n",
    "            ct+=1\n",
    "            user_ids = torch.LongTensor([user2idx[u] for u in x1]).cuda()\n",
    "            item_ids = torch.LongTensor([item2idx[b] for b in x2]).cuda()\n",
    "            y = torch.Tensor(y).cuda()\n",
    "            # disregard/zero the gradients from previous computation\n",
    "            model.zero_grad() \n",
    "            preds = model(user_ids,item_ids)\n",
    "            loss = loss_function(preds, y)\n",
    "            loss.backward()\n",
    "            optimizer.step()\n",
    "            total_loss += loss.item()\n",
    "        total_loss /= ct\n",
    "        \n",
    "        # getting the loss on validation set\n",
    "        i = 0\n",
    "        total_val_loss = 0.0\n",
    "        cv=0\n",
    "        m = model.eval() # setting the model to evaluation mode\n",
    "        while i < len(data[1]):\n",
    "            x11,x21,y1 = get_batch(data[1],i,i+bs)\n",
    "            i+=bs\n",
    "            cv+=1\n",
    "            user_ids = torch.LongTensor([user2idx[u] for u in x11]).cuda()\n",
    "            item_ids = torch.LongTensor([item2idx[b] for b in x21]).cuda()\n",
    "            y1 = torch.Tensor(y1).cuda()\n",
    "            preds = m(user_ids,item_ids)\n",
    "            loss = loss_function(preds, y1)\n",
    "            total_val_loss += loss.item()\n",
    "        total_val_loss /= cv\n",
    "        \n",
    "        print('epoch', epoch+1, '   train loss', \"%.3f\" % total_loss, \n",
    "              '   valid loss', \"%.3f\" % total_val_loss)\n",
    "\n",
    "train(epochs=20, bs)\n",
    "\n",
    "\n",
    "def recommend_item_for_user(model, user_id):\n",
    "    m = model.eval().cpu()\n",
    "    user_ids = torch.LongTensor([user2idx[u] for u in [user_id]*len(items)])\n",
    "    item_ids = torch.LongTensor([item2idx[b] for b in items])\n",
    "    remove = set(ratings[ratings[user_col] == user_id][item_col].values)\n",
    "    preds = m(user_ids,item_ids).detach().numpy()\n",
    "    pred_item = [(p,b) for p,b in sorted(zip(preds,items), reverse = True) if b not in remove]\n",
    "    return pred_item\n",
    "\n",
    "def recommend_user_for_item(model, item_id):\n",
    "    m = model.eval().cpu()\n",
    "    user_ids = torch.LongTensor([user2idx[u] for u in users])\n",
    "    book_ids = torch.LongTensor([item2idx[b] for b in [item_id]*len(users)])\n",
    "    remove = set(ratings[ratings[item_col] == book_id][user_col].values)\n",
    "    preds = m(user_ids,item_ids).detach().numpy()\n",
    "    pred_user = [(p,u) for p,u in sorted(zip(preds,users), reverse = True) if u not in remove]\n",
    "    return pred_user\n"
   ]
  },
  {
   "cell_type": "code",
   "execution_count": null,
   "metadata": {},
   "outputs": [],
   "source": []
  },
  {
   "cell_type": "code",
   "execution_count": null,
   "metadata": {},
   "outputs": [],
   "source": []
  },
  {
   "cell_type": "code",
   "execution_count": null,
   "metadata": {},
   "outputs": [],
   "source": []
  },
  {
   "cell_type": "code",
   "execution_count": null,
   "metadata": {},
   "outputs": [],
   "source": []
  },
  {
   "cell_type": "code",
   "execution_count": null,
   "metadata": {},
   "outputs": [],
   "source": []
  },
  {
   "cell_type": "code",
   "execution_count": null,
   "metadata": {},
   "outputs": [],
   "source": []
  },
  {
   "cell_type": "code",
   "execution_count": null,
   "metadata": {},
   "outputs": [],
   "source": []
  },
  {
   "cell_type": "code",
   "execution_count": null,
   "metadata": {},
   "outputs": [],
   "source": []
  }
 ],
 "metadata": {
  "kernelspec": {
   "display_name": "Python 3",
   "language": "python",
   "name": "python3"
  },
  "language_info": {
   "codemirror_mode": {
    "name": "ipython",
    "version": 3
   },
   "file_extension": ".py",
   "mimetype": "text/x-python",
   "name": "python",
   "nbconvert_exporter": "python",
   "pygments_lexer": "ipython3",
   "version": "3.7.3"
  }
 },
 "nbformat": 4,
 "nbformat_minor": 2
}
