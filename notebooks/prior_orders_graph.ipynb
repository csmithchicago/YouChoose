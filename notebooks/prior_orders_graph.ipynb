{
 "cells": [
  {
   "cell_type": "code",
   "execution_count": 1,
   "metadata": {},
   "outputs": [],
   "source": [
    "\"\"\" build network graph of prior purchases \"\"\"\n",
    "import csv\n",
    "import itertools as it\n",
    "import json\n",
    "from collections import defaultdict\n",
    "from io import StringIO as sio\n",
    "\n",
    "import matplotlib.pyplot as plt\n",
    "import networkx as nx\n",
    "import numpy as np\n",
    "import pygraphviz as pgv"
   ]
  },
  {
   "cell_type": "code",
   "execution_count": 65,
   "metadata": {},
   "outputs": [],
   "source": [
    "def read_order_product_sets(filename):\n",
    "    with open(filename, newline='') as f:\n",
    "        prod_csv = csv.reader(f)\n",
    "        next(prod_csv)\n",
    "        for row in prod_csv:\n",
    "            yield json.load(sio(row[-1]))\n",
    "\n",
    "def dict_sum(*dicts):\n",
    "    ret = defaultdict(int)\n",
    "    for d in dicts:\n",
    "        for k, v in d.items():\n",
    "            ret[k] += v\n",
    "    return (ret)\n",
    "\n",
    "class Vertex(object):\n",
    "    \"\"\"Class to keep track of vertices in Graph.\n",
    "\n",
    "    Longer class information....\n",
    "\n",
    "    Attributes:\n",
    "        key: Unique key/ID to identify vertex.\n",
    "        neighbors: A dictionary of the surrounding connected vertices.\n",
    "        weights: A dictionary with keys: value of the neighbors and the\n",
    "            weight of the connecting edge.\n",
    "    \"\"\"\n",
    "    def __init__(self, key):\n",
    "        \"\"\"Initialize vertex with key\"\"\"\n",
    "        self.key = key\n",
    "        self.neighbors = defaultdict(dict)\n",
    "        self.weights = defaultdict(int)\n",
    "\n",
    "    def add_neighbor(self, neighbor):\n",
    "        self.neighbors[neighbor.key] = neighbor\n",
    "        self.weights[neighbor.key] += 1\n",
    "        return self\n",
    "\n",
    "    def __str__(self):\n",
    "        return (f'id: {self.key} -- neighbors: {[x.key for x in self.neighbors]}')\n",
    "    \n",
    "    def __repr__(self):\n",
    "        return f'Vertex {object}: id: {self.key}'\n",
    "    \n",
    "    def __add__(self, new):\n",
    "        if self.key == new.key:\n",
    "            self.neighbors.update(new.neighbors)\n",
    "            self.weights = dict_sum(self.weights, new.weights)\n",
    "            return self\n",
    "        \n",
    "    def get_connections(self):\n",
    "        return self.neighbors.keys(), self.weights\n",
    "\n",
    "    def get_weight(self, neighbor):\n",
    "        return self.weights[neighbor.key]\n",
    "    \n",
    "    def toDict(self):\n",
    "        return dict(self.weights)\n",
    "\n",
    "class Graph(object):\n",
    "    \"\"\"Graph class for undirected network graphs.\n",
    "\n",
    "    Longer class information....\n",
    "\n",
    "    Attributes:\n",
    "        vertices: The vertices contained in the graph.\n",
    "    \"\"\"\n",
    "    def __init__(self):\n",
    "        self.vertices = {} #defaultdict(dict)\n",
    "\n",
    "    def add_vertex(self, vertex):\n",
    "        self.vertices[vertex.key] = vertex\n",
    "\n",
    "    def get_vertex(self, key):\n",
    "        try:\n",
    "            return self.vertices[key]\n",
    "        except KeyError:\n",
    "            return None\n",
    "\n",
    "    def __contains__(self, key):\n",
    "        return key in self.vertices\n",
    "\n",
    "    def add_edge(self, from_key, to_key):\n",
    "        \"\"\"Add vertices with the to and from keys to the graph and then\n",
    "        update the neighbors for both vertices since graph is undirected.\n",
    "        \"\"\"\n",
    "        self.add_vertex(Vertex(from_key))\n",
    "        self.add_vertex(Vertex(to_key))\n",
    "        self.vertices[from_key].add_neighbor(self.vertices[to_key])\n",
    "        self.vertices[to_key].add_neighbor(self.vertices[from_key])\n",
    "\n",
    "    def get_vertices(self):\n",
    "        return self.vertices.keys()\n",
    "\n",
    "    def __iter__(self):\n",
    "        return iter(self.vertices.values())\n",
    "    \n",
    "    def __str__(self):\n",
    "        return (f'Graph: vertices: {len([x for x in self.verticies])}')\n",
    "    \n",
    "    def toJson(self):\n",
    "        return json.dumps({x:dict(y.weights) for x,y in self.vertices.items()}, \n",
    "                          sort_keys=True, indent=2)\n"
   ]
  },
  {
   "cell_type": "code",
   "execution_count": 66,
   "metadata": {},
   "outputs": [],
   "source": [
    "def build_graph(product_generator, limit=100):\n",
    "    \"\"\"Use product generator of the products bought in each order\n",
    "    \"\"\"\n",
    "    graph = Graph()\n",
    "    for idx, product_list in enumerate(product_generator):\n",
    "        if idx >= limit:\n",
    "            break\n",
    "        product_pairs = it.combinations(product_list, 2)\n",
    "        for to_key, from_key in product_pairs:\n",
    "            graph.add_edge(to_key, from_key)\n",
    "\n",
    "    return graph"
   ]
  },
  {
   "cell_type": "code",
   "execution_count": 67,
   "metadata": {},
   "outputs": [],
   "source": [
    "products_from_order = read_order_product_sets(\"../data/interim/product_lists_by_order.csv\")"
   ]
  },
  {
   "cell_type": "code",
   "execution_count": 68,
   "metadata": {
    "scrolled": false
   },
   "outputs": [],
   "source": [
    "g = build_graph(products_from_order, 100000)\n",
    "with open('json_graph.json', 'w') as f:\n",
    "    f.write(g.toJson())"
   ]
  },
  {
   "cell_type": "code",
   "execution_count": 64,
   "metadata": {},
   "outputs": [],
   "source": []
  },
  {
   "cell_type": "code",
   "execution_count": null,
   "metadata": {},
   "outputs": [],
   "source": []
  },
  {
   "cell_type": "code",
   "execution_count": null,
   "metadata": {},
   "outputs": [],
   "source": []
  },
  {
   "cell_type": "code",
   "execution_count": null,
   "metadata": {},
   "outputs": [],
   "source": []
  },
  {
   "cell_type": "code",
   "execution_count": null,
   "metadata": {},
   "outputs": [],
   "source": []
  },
  {
   "cell_type": "code",
   "execution_count": null,
   "metadata": {},
   "outputs": [],
   "source": []
  },
  {
   "cell_type": "code",
   "execution_count": null,
   "metadata": {},
   "outputs": [],
   "source": []
  }
 ],
 "metadata": {
  "kernelspec": {
   "display_name": "Python 3",
   "language": "python",
   "name": "python3"
  },
  "language_info": {
   "codemirror_mode": {
    "name": "ipython",
    "version": 3
   },
   "file_extension": ".py",
   "mimetype": "text/x-python",
   "name": "python",
   "nbconvert_exporter": "python",
   "pygments_lexer": "ipython3",
   "version": "3.7.1"
  }
 },
 "nbformat": 4,
 "nbformat_minor": 2
}
