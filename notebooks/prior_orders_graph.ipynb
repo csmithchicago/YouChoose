{
 "cells": [
  {
   "cell_type": "code",
   "execution_count": 39,
   "metadata": {},
   "outputs": [],
   "source": [
    "\"\"\" build network graph of prior purchases \"\"\"\n",
    "import csv\n",
    "import itertools as it\n",
    "import json\n",
    "from collections import defaultdict\n",
    "from io import StringIO as sio\n",
    "\n",
    "import matplotlib.pyplot as plt\n",
    "import networkx as nx\n",
    "import numpy as np\n",
    "import pygraphviz as pgv"
   ]
  },
  {
   "cell_type": "code",
   "execution_count": 30,
   "metadata": {},
   "outputs": [],
   "source": [
    "def read_order_product_sets(filename):\n",
    "    with open(filename, newline='') as f:\n",
    "        prod_csv = csv.reader(f)\n",
    "        next(prod_csv)\n",
    "        for row in prod_csv:\n",
    "            yield json.load(sio(row[-1]))"
   ]
  },
  {
   "cell_type": "code",
   "execution_count": 31,
   "metadata": {},
   "outputs": [],
   "source": [
    "products_from_order = read_order_product_sets(\"../data/interim/product_lists_by_order.csv\")"
   ]
  },
  {
   "cell_type": "code",
   "execution_count": 34,
   "metadata": {},
   "outputs": [],
   "source": [
    "prod_li = next(products_from_order)"
   ]
  },
  {
   "cell_type": "code",
   "execution_count": 35,
   "metadata": {},
   "outputs": [
    {
     "data": {
      "text/plain": [
       "[49302, 11109, 10246, 49683, 43633, 13176, 47209, 22035]"
      ]
     },
     "execution_count": 35,
     "metadata": {},
     "output_type": "execute_result"
    }
   ],
   "source": [
    "prod_li"
   ]
  },
  {
   "cell_type": "code",
   "execution_count": 41,
   "metadata": {},
   "outputs": [
    {
     "data": {
      "text/plain": [
       "[(49302, 11109),\n",
       " (49302, 10246),\n",
       " (49302, 49683),\n",
       " (49302, 43633),\n",
       " (49302, 13176),\n",
       " (49302, 47209),\n",
       " (49302, 22035),\n",
       " (11109, 10246),\n",
       " (11109, 49683),\n",
       " (11109, 43633),\n",
       " (11109, 13176),\n",
       " (11109, 47209),\n",
       " (11109, 22035),\n",
       " (10246, 49683),\n",
       " (10246, 43633),\n",
       " (10246, 13176),\n",
       " (10246, 47209),\n",
       " (10246, 22035),\n",
       " (49683, 43633),\n",
       " (49683, 13176),\n",
       " (49683, 47209),\n",
       " (49683, 22035),\n",
       " (43633, 13176),\n",
       " (43633, 47209),\n",
       " (43633, 22035),\n",
       " (13176, 47209),\n",
       " (13176, 22035),\n",
       " (47209, 22035)]"
      ]
     },
     "execution_count": 41,
     "metadata": {},
     "output_type": "execute_result"
    }
   ],
   "source": [
    "pairs = list(it.combinations(prod_li, 2))\n",
    "pairs"
   ]
  },
  {
   "cell_type": "code",
   "execution_count": 66,
   "metadata": {},
   "outputs": [],
   "source": [
    "dict1 = {'a': 10, 'c': 8, 'd': 10} \n",
    "dict2 = {'d': 6, 'c': 4}"
   ]
  },
  {
   "cell_type": "code",
   "execution_count": 57,
   "metadata": {},
   "outputs": [
    {
     "data": {
      "text/plain": [
       "{'a': 8, 'c': 4, 'd': 6}"
      ]
     },
     "execution_count": 57,
     "metadata": {},
     "output_type": "execute_result"
    }
   ],
   "source": [
    "{**dict1, **dict2}"
   ]
  },
  {
   "cell_type": "code",
   "execution_count": 58,
   "metadata": {},
   "outputs": [],
   "source": [
    "dict1.update(dict2)"
   ]
  },
  {
   "cell_type": "code",
   "execution_count": 59,
   "metadata": {},
   "outputs": [
    {
     "data": {
      "text/plain": [
       "{'a': 8, 'c': 4, 'd': 6}"
      ]
     },
     "execution_count": 59,
     "metadata": {},
     "output_type": "execute_result"
    }
   ],
   "source": [
    "dict1"
   ]
  },
  {
   "cell_type": "code",
   "execution_count": 68,
   "metadata": {},
   "outputs": [],
   "source": [
    "def dict_sum(*dicts):\n",
    "    ret = defaultdict(int)\n",
    "    for d in dicts:\n",
    "        for k, v in d.items():\n",
    "            ret[k] += v\n",
    "    return (ret)"
   ]
  },
  {
   "cell_type": "code",
   "execution_count": 70,
   "metadata": {},
   "outputs": [],
   "source": [
    "a=dsum(dict1, dict2)"
   ]
  },
  {
   "cell_type": "code",
   "execution_count": 72,
   "metadata": {},
   "outputs": [
    {
     "data": {
      "text/plain": [
       "dict"
      ]
     },
     "execution_count": 72,
     "metadata": {},
     "output_type": "execute_result"
    }
   ],
   "source": [
    "type(a)"
   ]
  },
  {
   "cell_type": "code",
   "execution_count": null,
   "metadata": {},
   "outputs": [],
   "source": []
  },
  {
   "cell_type": "code",
   "execution_count": 123,
   "metadata": {},
   "outputs": [],
   "source": [
    "\n",
    "class Vertex(object):\n",
    "    def __init__(self, key):\n",
    "        self.key = key\n",
    "        self.neighbors = defaultdict(dict)\n",
    "        self.weights = defaultdict(int)\n",
    "        self.size = 1\n",
    "\n",
    "    def add_neighbor(self, neighbor):\n",
    "        self.neighbors[neighbor.key] = neighbor\n",
    "        self.weights[neighbor.key] += 1\n",
    "        return self\n",
    "\n",
    "    def __str__(self):\n",
    "        return (f'id: {self.key} -- neighbors: {[x.key for x in self.neighbors]}')\n",
    "    \n",
    "    def __repr__(self):\n",
    "        return f'Vertex {object}: id: {self.key}'\n",
    "    \n",
    "    def __add__(self, new):\n",
    "        if self.key != new.key:\n",
    "            raise ValueError(\"Vertices must have same keys\")\n",
    "        self.size += new.size\n",
    "        self.neighbors = dict_sum(self.neighbors, new.neighbors)\n",
    "        return self\n",
    "        \n",
    "    def get_connections(self):\n",
    "        return self.neighbors.keys(), self.weights\n",
    "\n",
    "    def get_weight(self, neighbor):\n",
    "        return self.weights[neighbor.key]"
   ]
  },
  {
   "cell_type": "code",
   "execution_count": 124,
   "metadata": {},
   "outputs": [
    {
     "name": "stdout",
     "output_type": "stream",
     "text": [
      "id: 345 -- neighbors: []\n"
     ]
    }
   ],
   "source": [
    "print(Vertex(345))"
   ]
  },
  {
   "cell_type": "code",
   "execution_count": 125,
   "metadata": {},
   "outputs": [],
   "source": [
    "v = Vertex(234)"
   ]
  },
  {
   "cell_type": "code",
   "execution_count": 126,
   "metadata": {},
   "outputs": [
    {
     "name": "stdout",
     "output_type": "stream",
     "text": [
      "id: 234 -- neighbors: []\n"
     ]
    }
   ],
   "source": [
    "print(v)"
   ]
  },
  {
   "cell_type": "code",
   "execution_count": 127,
   "metadata": {},
   "outputs": [
    {
     "data": {
      "text/plain": [
       "Vertex <class 'object'>: id: 234"
      ]
     },
     "execution_count": 127,
     "metadata": {},
     "output_type": "execute_result"
    }
   ],
   "source": [
    "v.add_neighbor(Vertex(20))"
   ]
  },
  {
   "cell_type": "code",
   "execution_count": 128,
   "metadata": {},
   "outputs": [],
   "source": [
    "a = v.add_neighbor(Vertex(342)).get_connections()"
   ]
  },
  {
   "cell_type": "code",
   "execution_count": 129,
   "metadata": {},
   "outputs": [],
   "source": [
    "a\n",
    "b = a[1]"
   ]
  },
  {
   "cell_type": "code",
   "execution_count": 130,
   "metadata": {},
   "outputs": [
    {
     "name": "stdout",
     "output_type": "stream",
     "text": [
      "dict_items([(20, 1), (342, 1)])\n"
     ]
    }
   ],
   "source": [
    "print(b.items())"
   ]
  },
  {
   "cell_type": "code",
   "execution_count": 131,
   "metadata": {},
   "outputs": [
    {
     "data": {
      "text/plain": [
       "[(20, 1), (342, 1)]"
      ]
     },
     "execution_count": 131,
     "metadata": {},
     "output_type": "execute_result"
    }
   ],
   "source": [
    "[x for x in a[1].items()]"
   ]
  },
  {
   "cell_type": "code",
   "execution_count": 133,
   "metadata": {},
   "outputs": [
    {
     "ename": "TypeError",
     "evalue": "unsupported operand type(s) for +=: 'int' and 'Vertex'",
     "output_type": "error",
     "traceback": [
      "\u001b[0;31m---------------------------------------------------------------------------\u001b[0m",
      "\u001b[0;31mTypeError\u001b[0m                                 Traceback (most recent call last)",
      "\u001b[0;32m<ipython-input-133-1d03f3b166ab>\u001b[0m in \u001b[0;36m<module>\u001b[0;34m\u001b[0m\n\u001b[0;32m----> 1\u001b[0;31m \u001b[0mv\u001b[0m \u001b[0;34m+\u001b[0m \u001b[0mv\u001b[0m\u001b[0;34m\u001b[0m\u001b[0;34m\u001b[0m\u001b[0m\n\u001b[0m",
      "\u001b[0;32m<ipython-input-123-70b04b664fed>\u001b[0m in \u001b[0;36m__add__\u001b[0;34m(self, new)\u001b[0m\n\u001b[1;32m     22\u001b[0m             \u001b[0;32mraise\u001b[0m \u001b[0mValueError\u001b[0m\u001b[0;34m(\u001b[0m\u001b[0;34m\"Vertices must have same keys\"\u001b[0m\u001b[0;34m)\u001b[0m\u001b[0;34m\u001b[0m\u001b[0;34m\u001b[0m\u001b[0m\n\u001b[1;32m     23\u001b[0m         \u001b[0mself\u001b[0m\u001b[0;34m.\u001b[0m\u001b[0msize\u001b[0m \u001b[0;34m+=\u001b[0m \u001b[0mnew\u001b[0m\u001b[0;34m.\u001b[0m\u001b[0msize\u001b[0m\u001b[0;34m\u001b[0m\u001b[0;34m\u001b[0m\u001b[0m\n\u001b[0;32m---> 24\u001b[0;31m         \u001b[0mself\u001b[0m\u001b[0;34m.\u001b[0m\u001b[0mneighbors\u001b[0m \u001b[0;34m=\u001b[0m \u001b[0mdict_sum\u001b[0m\u001b[0;34m(\u001b[0m\u001b[0mself\u001b[0m\u001b[0;34m.\u001b[0m\u001b[0mneighbors\u001b[0m\u001b[0;34m,\u001b[0m \u001b[0mnew\u001b[0m\u001b[0;34m.\u001b[0m\u001b[0mneighbors\u001b[0m\u001b[0;34m)\u001b[0m\u001b[0;34m\u001b[0m\u001b[0;34m\u001b[0m\u001b[0m\n\u001b[0m\u001b[1;32m     25\u001b[0m         \u001b[0;32mreturn\u001b[0m \u001b[0mself\u001b[0m\u001b[0;34m\u001b[0m\u001b[0;34m\u001b[0m\u001b[0m\n\u001b[1;32m     26\u001b[0m \u001b[0;34m\u001b[0m\u001b[0m\n",
      "\u001b[0;32m<ipython-input-68-d6eea4abe160>\u001b[0m in \u001b[0;36mdict_sum\u001b[0;34m(*dicts)\u001b[0m\n\u001b[1;32m      3\u001b[0m     \u001b[0;32mfor\u001b[0m \u001b[0md\u001b[0m \u001b[0;32min\u001b[0m \u001b[0mdicts\u001b[0m\u001b[0;34m:\u001b[0m\u001b[0;34m\u001b[0m\u001b[0;34m\u001b[0m\u001b[0m\n\u001b[1;32m      4\u001b[0m         \u001b[0;32mfor\u001b[0m \u001b[0mk\u001b[0m\u001b[0;34m,\u001b[0m \u001b[0mv\u001b[0m \u001b[0;32min\u001b[0m \u001b[0md\u001b[0m\u001b[0;34m.\u001b[0m\u001b[0mitems\u001b[0m\u001b[0;34m(\u001b[0m\u001b[0;34m)\u001b[0m\u001b[0;34m:\u001b[0m\u001b[0;34m\u001b[0m\u001b[0;34m\u001b[0m\u001b[0m\n\u001b[0;32m----> 5\u001b[0;31m             \u001b[0mret\u001b[0m\u001b[0;34m[\u001b[0m\u001b[0mk\u001b[0m\u001b[0;34m]\u001b[0m \u001b[0;34m+=\u001b[0m \u001b[0mv\u001b[0m\u001b[0;34m\u001b[0m\u001b[0;34m\u001b[0m\u001b[0m\n\u001b[0m\u001b[1;32m      6\u001b[0m     \u001b[0;32mreturn\u001b[0m \u001b[0;34m(\u001b[0m\u001b[0mret\u001b[0m\u001b[0;34m)\u001b[0m\u001b[0;34m\u001b[0m\u001b[0;34m\u001b[0m\u001b[0m\n",
      "\u001b[0;31mTypeError\u001b[0m: unsupported operand type(s) for +=: 'int' and 'Vertex'"
     ]
    }
   ],
   "source": [
    "v + v"
   ]
  },
  {
   "cell_type": "code",
   "execution_count": null,
   "metadata": {},
   "outputs": [],
   "source": []
  },
  {
   "cell_type": "code",
   "execution_count": null,
   "metadata": {},
   "outputs": [],
   "source": []
  },
  {
   "cell_type": "code",
   "execution_count": null,
   "metadata": {},
   "outputs": [],
   "source": []
  },
  {
   "cell_type": "code",
   "execution_count": null,
   "metadata": {},
   "outputs": [],
   "source": []
  },
  {
   "cell_type": "code",
   "execution_count": null,
   "metadata": {},
   "outputs": [],
   "source": []
  },
  {
   "cell_type": "code",
   "execution_count": null,
   "metadata": {},
   "outputs": [],
   "source": []
  },
  {
   "cell_type": "code",
   "execution_count": null,
   "metadata": {},
   "outputs": [],
   "source": []
  },
  {
   "cell_type": "code",
   "execution_count": null,
   "metadata": {},
   "outputs": [],
   "source": []
  },
  {
   "cell_type": "code",
   "execution_count": null,
   "metadata": {},
   "outputs": [],
   "source": [
    "\n",
    "\n",
    "\n",
    "class Graph(object):\n",
    "    def __init__(self):\n",
    "        self.verticies = defaultdict(dict)\n",
    "\n",
    "    def add_vertex(self, vertex):\n",
    "        self.verticies[vertex.key] = vertex\n",
    "\n",
    "    def get_vertex(self, key):\n",
    "        try:\n",
    "            return self.verticies[key]\n",
    "        except KeyError:\n",
    "            return None\n",
    "\n",
    "    def __contains__(self, key):\n",
    "        return key in self.verticies\n",
    "\n",
    "    def add_edge(self, from_key, to_key, weight=0):\n",
    "        if from_key not in self.verticies:\n",
    "            self.add_vertex(Vertex(from_key))\n",
    "        if to_key not in self.verticies:\n",
    "            self.add_vertex(Vertex(to_key))\n",
    "        self.verticies[from_key].add_neighbor(self.verticies[to_key], weight)\n",
    "\n",
    "    def get_vertices(self):\n",
    "        return self.verticies.keys()\n",
    "\n",
    "    def __iter__(self):\n",
    "        return iter(self.verticies.values())\n",
    "    \n",
    "    \n",
    "    \n",
    "    \n",
    "def build_graph(words):\n",
    "    buckets = defaultdict(list)\n",
    "    graph = defaultdict(set)\n",
    "\n",
    "    for word in words:\n",
    "        for i in range(len(word)):\n",
    "            bucket = '{}_{}'.format(word[:i], word[i + 1:])\n",
    "            buckets[bucket].append(word)\n",
    "\n",
    "    # add vertices and edges for words in the same bucket\n",
    "    for bucket, mutual_neighbors in buckets.items():\n",
    "        for word1, word2 in product(mutual_neighbors, repeat=2):\n",
    "            if word1 != word2:\n",
    "                graph[word1].add(word2)\n",
    "                graph[word2].add(word1)\n",
    "\n",
    "    return graph"
   ]
  },
  {
   "cell_type": "code",
   "execution_count": 47,
   "metadata": {},
   "outputs": [],
   "source": [
    "class Graph:\n",
    "    def __init__(self):\n",
    "        self.vertices = defaultdict(dict)"
   ]
  },
  {
   "cell_type": "code",
   "execution_count": 46,
   "metadata": {},
   "outputs": [
    {
     "data": {
      "text/plain": [
       "defaultdict(dict, {})"
      ]
     },
     "execution_count": 46,
     "metadata": {},
     "output_type": "execute_result"
    }
   ],
   "source": [
    "Graph().vertices"
   ]
  },
  {
   "cell_type": "code",
   "execution_count": null,
   "metadata": {},
   "outputs": [],
   "source": []
  },
  {
   "cell_type": "code",
   "execution_count": null,
   "metadata": {},
   "outputs": [],
   "source": []
  }
 ],
 "metadata": {
  "kernelspec": {
   "display_name": "Python 3",
   "language": "python",
   "name": "python3"
  },
  "language_info": {
   "codemirror_mode": {
    "name": "ipython",
    "version": 3
   },
   "file_extension": ".py",
   "mimetype": "text/x-python",
   "name": "python",
   "nbconvert_exporter": "python",
   "pygments_lexer": "ipython3",
   "version": "3.7.1"
  }
 },
 "nbformat": 4,
 "nbformat_minor": 2
}
